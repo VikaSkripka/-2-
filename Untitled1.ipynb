{
  "nbformat": 4,
  "nbformat_minor": 0,
  "metadata": {
    "colab": {
      "provenance": []
    },
    "kernelspec": {
      "name": "python3",
      "display_name": "Python 3"
    },
    "language_info": {
      "name": "python"
    }
  },
  "cells": [
    {
      "cell_type": "code",
      "execution_count": 4,
      "metadata": {
        "colab": {
          "base_uri": "https://localhost:8080/"
        },
        "id": "n_aDSowXOxd_",
        "outputId": "04e7ef6c-039b-4c1f-a4ff-97ac7b51fd74"
      },
      "outputs": [
        {
          "output_type": "stream",
          "name": "stdout",
          "text": [
            "Введите переменную x:11\n",
            "Введите переменную t:2\n",
            "z=6710921.99\n"
          ]
        }
      ],
      "source": [
        "import math\n",
        "x=int(input('Введите переменную x:'))\n",
        "t=int(input('Введите переменную t:'))\n",
        "z=((9*math.pi*t+10*math.cos(x))/(math.sqrt(t)-math.fabs(math.sin(t))))*math.pow(math.e,x)\n",
        "print(\"z={0:.2f}\".format(z))"
      ]
    }
  ]
}